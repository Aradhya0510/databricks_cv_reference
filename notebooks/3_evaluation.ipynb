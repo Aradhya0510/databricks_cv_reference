{
 "cells": [
  {
   "cell_type": "markdown",
   "metadata": {},
   "source": [
    "# Model Evaluation\n",
    "\n",
    "This notebook demonstrates the comprehensive evaluation of computer vision models, including metrics computation and visualization."
   ]
  },
  {
   "cell_type": "code",
   "execution_count": null,
   "metadata": {},
   "source": [
    "# Install dependencies\n",
    "!pip install scikit-learn matplotlib seaborn pycocotools"
   ]
  },
  {
   "cell_type": "code",
   "execution_count": null,
   "metadata": {},
   "source": [
    "# Import required modules\n",
    "import mlflow\n",
    "import torch\n",
    "import numpy as np\n",
    "import matplotlib.pyplot as plt\n",
    "import seaborn as sns\n",
    "from evaluation.metrics.classification_metrics import ClassificationMetrics\n",
    "from evaluation.metrics.detection_metrics import DetectionMetrics\n",
    "from evaluation.metrics.segmentation_metrics import SegmentationMetrics\n",
    "from evaluation.reports.performance_analyzer import PerformanceAnalyzer"
   ]
  },
  {
   "cell_type": "markdown",
   "metadata": {},
   "source": [
    "## Load Model and Data\n",
    "\n",
    "Load the trained model and test data for evaluation."
   ]
  },
  {
   "cell_type": "code",
   "execution_count": null,
   "metadata": {},
   "source": [
    "# Load model from MLflow\n",
    "model_uri = \"models:/cv_model/1\"\n",
    "model = mlflow.pytorch.load_model(model_uri)\n",
    "model.eval()\n",
    "\n",
    "# Load test data\n",
    "test_data = torch.load(\"/dbfs/path/to/test_data.pt\")\n",
    "test_loader = torch.utils.data.DataLoader(\n",
    "    test_data,\n",
    "    batch_size=32,\n",
    "    shuffle=False\n",
    ")"
   ]
  },
  {
   "cell_type": "markdown",
   "metadata": {},
   "source": [
    "## Initialize Metrics\n",
    "\n",
    "Set up evaluation metrics for different computer vision tasks."
   ]
  },
  {
   "cell_type": "code",
   "execution_count": null,
   "metadata": {},
   "source": [
    "# Initialize metrics\n",
    "metrics = {\n",
    "    \"classification\": ClassificationMetrics(num_classes=10),\n",
    "    \"detection\": DetectionMetrics(iou_threshold=0.5),\n",
    "    \"segmentation\": SegmentationMetrics(num_classes=10)\n",
    "}\n",
    "\n",
    "# Initialize performance analyzer\n",
    "analyzer = PerformanceAnalyzer()"
   ]
  },
  {
   "cell_type": "markdown",
   "metadata": {},
   "source": [
    "## Generate Predictions\n",
    "\n",
    "Run inference on test data to generate predictions."
   ]
  },
  {
   "cell_type": "code",
   "execution_count": null,
   "metadata": {},
   "source": [
    "def generate_predictions(model, dataloader):\n",
    "    predictions = []\n",
    "    ground_truth = []\n",
    "    \n",
    "    with torch.no_grad():\n",
    "        for batch in dataloader:\n",
    "            x, y = batch\n",
    "            y_hat = model(x)\n",
    "            predictions.append(y_hat)\n",
    "            ground_truth.append(y)\n",
    "    \n",
    "    return torch.cat(predictions), torch.cat(ground_truth)\n",
    "\n",
    "# Generate predictions\n",
    "predictions, ground_truth = generate_predictions(model, test_loader)"
   ]
  },
  {
   "cell_type": "markdown",
   "metadata": {},
   "source": [
    "## Compute Metrics\n",
    "\n",
    "Calculate evaluation metrics for the model."
   ]
  },
  {
   "cell_type": "code",
   "execution_count": null,
   "metadata": {},
   "source": [
    "# Compute metrics for each task\n",
    "results = {}\n",
    "for task, metric in metrics.items():\n",
    "    results[task] = metric.compute_metrics(predictions, ground_truth)\n",
    "    print(f\"\\n{task.upper()} Metrics:\")\n",
    "    for metric_name, value in results[task].items():\n",
    "        print(f\"{metric_name}: {value:.4f}\")"
   ]
  },
  {
   "cell_type": "markdown",
   "metadata": {},
   "source": [
    "## Generate Visualizations\n",
    "\n",
    "Create visualizations for model performance analysis."
   ]
  },
  {
   "cell_type": "code",
   "execution_count": null,
   "metadata": {},
   "source": [
    "# Plot confusion matrix\n",
    "confusion_matrix = metrics['classification'].plot_confusion_matrix(\n",
    "    ground_truth,\n",
    "    predictions.argmax(dim=1),\n",
    "    class_names=[f'Class {i}' for i in range(10)]\n",
    ")\n",
    "plt.show()\n",
    "\n",
    "# Plot ROC curves\n",
    "roc_curves = metrics['classification'].plot_roc_curve(\n",
    "    ground_truth,\n",
    "    predictions,\n",
    "    class_names=[f'Class {i}' for i in range(10)]\n",
    ")\n",
    "plt.show()"
   ]
  },
  {
   "cell_type": "markdown",
   "metadata": {},
   "source": [
    "## Performance Analysis\n",
    "\n",
    "Analyze model performance across different aspects."
   ]
  },
  {
   "cell_type": "code",
   "execution_count": null,
   "metadata": {},
   "source": [
    "# Analyze performance by class\n",
    "class_performance = analyzer.analyze_by_class(predictions, ground_truth)\n",
    "print(\"\\nPerformance by Class:\")\n",
    "display(class_performance)\n",
    "\n",
    "# Analyze error patterns\n",
    "error_analysis = analyzer.analyze_errors(predictions, ground_truth)\n",
    "print(\"\\nError Analysis:\")\n",
    "display(error_analysis)"
   ]
  },
  {
   "cell_type": "markdown",
   "metadata": {},
   "source": [
    "## Generate Evaluation Report\n",
    "\n",
    "Create a comprehensive evaluation report."
   ]
  },
  {
   "cell_type": "code",
   "execution_count": null,
   "metadata": {},
   "source": [
    "# Generate report\n",
    "report = analyzer.generate_report(results, class_performance, error_analysis)\n",
    "\n",
    "# Save report\n",
    "report_path = \"/dbfs/path/to/evaluation_report.html\"\n",
    "with open(report_path, 'w') as f:\n",
    "    f.write(report)\n",
    "print(f\"Evaluation report saved to: {report_path}\")"
   ]
  }
 ],
 "metadata": {
  "kernelspec": {
   "display_name": "Python 3",
   "language": "python",
   "name": "python3"
  },
  "language_info": {
   "codemirror_mode": {
    "name": "ipython",
    "version": 3
   },
   "file_extension": ".py",
   "mimetype": "text/x-python",
   "name": "python",
   "nbconvert_exporter": "python",
   "pygments_lexer": "ipython3",
   "version": "3.8.0"
  }
 },
 "nbformat": 4,
 "nbformat_minor": 4
} 